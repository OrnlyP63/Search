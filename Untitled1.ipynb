{
 "cells": [
  {
   "cell_type": "code",
   "execution_count": 1,
   "id": "e8007441-e433-41e2-ba69-4681a1ce8c7b",
   "metadata": {},
   "outputs": [],
   "source": [
    "import numpy as np"
   ]
  },
  {
   "cell_type": "code",
   "execution_count": 2,
   "id": "9672ed2b-605d-451d-8d7d-b1cf48e1a765",
   "metadata": {},
   "outputs": [
    {
     "name": "stdout",
     "output_type": "stream",
     "text": [
      "13\n"
     ]
    }
   ],
   "source": [
    "from math import sqrt\n",
    " \n",
    "# calculate manhattan distance\n",
    "def manhattan_distance(a, b):\n",
    "    return sum(abs(e1-e2) for e1, e2 in zip(a,b))\n",
    " \n",
    "# define data\n",
    "row1 = [10, 20, 15, 10, 5]\n",
    "row2 = [12, 24, 18, 8, 7]\n",
    "# calculate distance\n",
    "dist = manhattan_distance(row1, row2)\n",
    "print(dist)"
   ]
  },
  {
   "cell_type": "code",
   "execution_count": 3,
   "id": "f4595249-8ded-4bd1-8d78-951b604f5381",
   "metadata": {},
   "outputs": [],
   "source": [
    "pos = np.array([[7,8,4],[5,6,0],[8,3,1]])\n",
    "goal = np.array([[0,1,2],[3,4,5],[6,7,8]])"
   ]
  },
  {
   "cell_type": "code",
   "execution_count": 4,
   "id": "cb2cef42-109d-43e9-b64c-6fc8a1ca81fb",
   "metadata": {},
   "outputs": [
    {
     "data": {
      "text/plain": [
       "38"
      ]
     },
     "execution_count": 4,
     "metadata": {},
     "output_type": "execute_result"
    }
   ],
   "source": [
    "abs(goal - pos).sum()"
   ]
  },
  {
   "cell_type": "code",
   "execution_count": 5,
   "id": "46e93716-4373-416e-b0b4-22d9a8447a3e",
   "metadata": {},
   "outputs": [
    {
     "data": {
      "text/plain": [
       "array([[7, 8, 4],\n",
       "       [5, 6, 0],\n",
       "       [8, 3, 1]])"
      ]
     },
     "execution_count": 5,
     "metadata": {},
     "output_type": "execute_result"
    }
   ],
   "source": [
    "pos"
   ]
  },
  {
   "cell_type": "code",
   "execution_count": 6,
   "id": "0f00933a-8d5e-49b9-a64b-8269cbcb2c5f",
   "metadata": {},
   "outputs": [
    {
     "data": {
      "text/plain": [
       "True"
      ]
     },
     "execution_count": 6,
     "metadata": {},
     "output_type": "execute_result"
    }
   ],
   "source": [
    "np.all(pos == pos)"
   ]
  },
  {
   "cell_type": "code",
   "execution_count": 7,
   "id": "c2f55184-a9bb-4c2d-a68d-bc9c9d63b73c",
   "metadata": {},
   "outputs": [],
   "source": [
    "empty_pos = tuple([i[-1] for i in np.where(pos==0)])"
   ]
  },
  {
   "cell_type": "code",
   "execution_count": 8,
   "id": "b2d0e862-b281-474e-a6ce-2bdfcfde03f0",
   "metadata": {},
   "outputs": [],
   "source": [
    "move = [[-1,0],\n",
    "        [0,-1],\n",
    "        [1, 0],\n",
    "        [0, 1]]"
   ]
  },
  {
   "cell_type": "code",
   "execution_count": 9,
   "id": "af8c0320-b711-42bc-9ddf-751b5927867f",
   "metadata": {},
   "outputs": [],
   "source": [
    "no_rows, no_columns = pos.shape"
   ]
  },
  {
   "cell_type": "code",
   "execution_count": 10,
   "id": "524c725d-41e6-4c61-a690-32fc2ff28afb",
   "metadata": {},
   "outputs": [
    {
     "name": "stdout",
     "output_type": "stream",
     "text": [
      "[[7 8 0]\n",
      " [5 6 4]\n",
      " [8 3 1]]\n",
      "****************************************************************************************************\n",
      "[[7 8 4]\n",
      " [5 0 6]\n",
      " [8 3 1]]\n",
      "****************************************************************************************************\n",
      "[[7 8 4]\n",
      " [5 6 1]\n",
      " [8 3 0]]\n",
      "****************************************************************************************************\n"
     ]
    }
   ],
   "source": [
    "for new_position in move:\n",
    "    move_pos = (empty_pos[0] + new_position[0], empty_pos[1] + new_position[1])\n",
    "    if (move_pos[0] > (no_rows - 1) or\n",
    "        move_pos[0] < 0 or\n",
    "        move_pos[1] > (no_columns - 1) or\n",
    "        move_pos[1] < 0):\n",
    "        continue\n",
    "    \n",
    "    new_pos = pos.copy()\n",
    "    new_pos[move_pos], new_pos[empty_pos]  = new_pos[empty_pos], new_pos[move_pos]\n",
    "\n",
    "    print(new_pos)\n",
    "    print('*'*100)"
   ]
  },
  {
   "cell_type": "code",
   "execution_count": 11,
   "id": "ea1feaec-1e27-4843-902c-3842e49ee95a",
   "metadata": {},
   "outputs": [],
   "source": [
    "class Node:\n",
    "    def __init__(self, parent=None, position=None):\n",
    "        self.parent = parent\n",
    "        self.position = position\n",
    "        \n",
    "        self.g = 0\n",
    "        self.h = 0\n",
    "        self.f = 0\n",
    "        \n",
    "    def __eq__(self, other):\n",
    "        return np.all(self.position == other.position)"
   ]
  },
  {
   "cell_type": "code",
   "execution_count": 12,
   "id": "325afd2a-cd79-488a-b3ea-1a698f093e53",
   "metadata": {},
   "outputs": [],
   "source": [
    "#abs(np.array([[0,1,2],[3,4,5],[6,7,8]]) - position).sum()"
   ]
  },
  {
   "cell_type": "code",
   "execution_count": 13,
   "id": "f3fe04fc-be1a-48ba-b1e7-462c510d2802",
   "metadata": {},
   "outputs": [],
   "source": [
    "def return_path(current_node):\n",
    "    path = []\n",
    "\n",
    "    current = current_node\n",
    "    \n",
    "    while current is not None:\n",
    "        path.append(current.position)\n",
    "        current = current.parent\n",
    "    \n",
    "    path = path[::-1]\n",
    "    \n",
    "#     for i in range(len(path)):\n",
    "#         result[path[i][0]][path[i][1]] = start_value\n",
    "#         start_value += 1\n",
    "        \n",
    "    #return path\n",
    "    print(path)"
   ]
  },
  {
   "cell_type": "code",
   "execution_count": 14,
   "id": "d436ddff-143e-4d86-b5d0-62ff9076328a",
   "metadata": {},
   "outputs": [
    {
     "ename": "KeyboardInterrupt",
     "evalue": "",
     "output_type": "error",
     "traceback": [
      "\u001b[1;31m---------------------------------------------------------------------------\u001b[0m",
      "\u001b[1;31mKeyboardInterrupt\u001b[0m                         Traceback (most recent call last)",
      "\u001b[1;32m<ipython-input-14-b527a3548144>\u001b[0m in \u001b[0;36m<module>\u001b[1;34m\u001b[0m\n\u001b[0;32m     61\u001b[0m         \u001b[0mchild\u001b[0m\u001b[1;33m.\u001b[0m\u001b[0mf\u001b[0m \u001b[1;33m=\u001b[0m \u001b[0mchild\u001b[0m\u001b[1;33m.\u001b[0m\u001b[0mg\u001b[0m \u001b[1;33m+\u001b[0m \u001b[0mchild\u001b[0m\u001b[1;33m.\u001b[0m\u001b[0mh\u001b[0m\u001b[1;33m\u001b[0m\u001b[1;33m\u001b[0m\u001b[0m\n\u001b[0;32m     62\u001b[0m \u001b[1;33m\u001b[0m\u001b[0m\n\u001b[1;32m---> 63\u001b[1;33m         \u001b[1;32mif\u001b[0m \u001b[0mlen\u001b[0m\u001b[1;33m(\u001b[0m\u001b[1;33m[\u001b[0m\u001b[0mi\u001b[0m \u001b[1;32mfor\u001b[0m \u001b[0mi\u001b[0m \u001b[1;32min\u001b[0m \u001b[0myet_to_visit_list\u001b[0m \u001b[1;32mif\u001b[0m \u001b[0mchild\u001b[0m \u001b[1;33m==\u001b[0m \u001b[0mi\u001b[0m \u001b[1;32mand\u001b[0m \u001b[0mchild\u001b[0m\u001b[1;33m.\u001b[0m\u001b[0mg\u001b[0m \u001b[1;33m>\u001b[0m \u001b[0mi\u001b[0m\u001b[1;33m.\u001b[0m\u001b[0mg\u001b[0m\u001b[1;33m]\u001b[0m\u001b[1;33m)\u001b[0m \u001b[1;33m>\u001b[0m \u001b[1;36m0\u001b[0m\u001b[1;33m:\u001b[0m\u001b[1;33m\u001b[0m\u001b[1;33m\u001b[0m\u001b[0m\n\u001b[0m\u001b[0;32m     64\u001b[0m             \u001b[1;32mcontinue\u001b[0m\u001b[1;33m\u001b[0m\u001b[1;33m\u001b[0m\u001b[0m\n\u001b[0;32m     65\u001b[0m \u001b[1;33m\u001b[0m\u001b[0m\n",
      "\u001b[1;32m<ipython-input-14-b527a3548144>\u001b[0m in \u001b[0;36m<listcomp>\u001b[1;34m(.0)\u001b[0m\n\u001b[0;32m     61\u001b[0m         \u001b[0mchild\u001b[0m\u001b[1;33m.\u001b[0m\u001b[0mf\u001b[0m \u001b[1;33m=\u001b[0m \u001b[0mchild\u001b[0m\u001b[1;33m.\u001b[0m\u001b[0mg\u001b[0m \u001b[1;33m+\u001b[0m \u001b[0mchild\u001b[0m\u001b[1;33m.\u001b[0m\u001b[0mh\u001b[0m\u001b[1;33m\u001b[0m\u001b[1;33m\u001b[0m\u001b[0m\n\u001b[0;32m     62\u001b[0m \u001b[1;33m\u001b[0m\u001b[0m\n\u001b[1;32m---> 63\u001b[1;33m         \u001b[1;32mif\u001b[0m \u001b[0mlen\u001b[0m\u001b[1;33m(\u001b[0m\u001b[1;33m[\u001b[0m\u001b[0mi\u001b[0m \u001b[1;32mfor\u001b[0m \u001b[0mi\u001b[0m \u001b[1;32min\u001b[0m \u001b[0myet_to_visit_list\u001b[0m \u001b[1;32mif\u001b[0m \u001b[0mchild\u001b[0m \u001b[1;33m==\u001b[0m \u001b[0mi\u001b[0m \u001b[1;32mand\u001b[0m \u001b[0mchild\u001b[0m\u001b[1;33m.\u001b[0m\u001b[0mg\u001b[0m \u001b[1;33m>\u001b[0m \u001b[0mi\u001b[0m\u001b[1;33m.\u001b[0m\u001b[0mg\u001b[0m\u001b[1;33m]\u001b[0m\u001b[1;33m)\u001b[0m \u001b[1;33m>\u001b[0m \u001b[1;36m0\u001b[0m\u001b[1;33m:\u001b[0m\u001b[1;33m\u001b[0m\u001b[1;33m\u001b[0m\u001b[0m\n\u001b[0m\u001b[0;32m     64\u001b[0m             \u001b[1;32mcontinue\u001b[0m\u001b[1;33m\u001b[0m\u001b[1;33m\u001b[0m\u001b[0m\n\u001b[0;32m     65\u001b[0m \u001b[1;33m\u001b[0m\u001b[0m\n",
      "\u001b[1;32m<ipython-input-11-649ecc322c3e>\u001b[0m in \u001b[0;36m__eq__\u001b[1;34m(self, other)\u001b[0m\n\u001b[0;32m      9\u001b[0m \u001b[1;33m\u001b[0m\u001b[0m\n\u001b[0;32m     10\u001b[0m     \u001b[1;32mdef\u001b[0m \u001b[0m__eq__\u001b[0m\u001b[1;33m(\u001b[0m\u001b[0mself\u001b[0m\u001b[1;33m,\u001b[0m \u001b[0mother\u001b[0m\u001b[1;33m)\u001b[0m\u001b[1;33m:\u001b[0m\u001b[1;33m\u001b[0m\u001b[1;33m\u001b[0m\u001b[0m\n\u001b[1;32m---> 11\u001b[1;33m         \u001b[1;32mreturn\u001b[0m \u001b[0mnp\u001b[0m\u001b[1;33m.\u001b[0m\u001b[0mall\u001b[0m\u001b[1;33m(\u001b[0m\u001b[0mself\u001b[0m\u001b[1;33m.\u001b[0m\u001b[0mposition\u001b[0m \u001b[1;33m==\u001b[0m \u001b[0mother\u001b[0m\u001b[1;33m.\u001b[0m\u001b[0mposition\u001b[0m\u001b[1;33m)\u001b[0m\u001b[1;33m\u001b[0m\u001b[1;33m\u001b[0m\u001b[0m\n\u001b[0m",
      "\u001b[1;32m<__array_function__ internals>\u001b[0m in \u001b[0;36mall\u001b[1;34m(*args, **kwargs)\u001b[0m\n",
      "\u001b[1;32m~\\anaconda3\\lib\\site-packages\\numpy\\core\\fromnumeric.py\u001b[0m in \u001b[0;36mall\u001b[1;34m(a, axis, out, keepdims, where)\u001b[0m\n\u001b[0;32m   2436\u001b[0m \u001b[1;33m\u001b[0m\u001b[0m\n\u001b[0;32m   2437\u001b[0m     \"\"\"\n\u001b[1;32m-> 2438\u001b[1;33m     return _wrapreduction(a, np.logical_and, 'all', axis, None, out,\n\u001b[0m\u001b[0;32m   2439\u001b[0m                           keepdims=keepdims, where=where)\n\u001b[0;32m   2440\u001b[0m \u001b[1;33m\u001b[0m\u001b[0m\n",
      "\u001b[1;31mKeyboardInterrupt\u001b[0m: "
     ]
    }
   ],
   "source": [
    "children = []\n",
    "cost = 1\n",
    "pos = np.array([[7,8,4],[5,0,6],[8,3,1]])\n",
    "goal = np.array([[0,1,2],[3,4,5],[6,7,8]])\n",
    "\n",
    "move = [[-1,0],\n",
    "        [0,-1],\n",
    "        [1, 0],\n",
    "        [0, 1]]\n",
    "\n",
    "no_rows, no_columns = pos.shape\n",
    "\n",
    "start_node = Node(None, pos)\n",
    "end_node = Node(None, goal)\n",
    "#current_node = Node(None, pos)\n",
    "\n",
    "visited_list = []\n",
    "yet_to_visit_list = []\n",
    "\n",
    "\n",
    "yet_to_visit_list.append(start_node)\n",
    "\n",
    "\n",
    "while len(yet_to_visit_list) > 0:\n",
    "    current_node = yet_to_visit_list[0]\n",
    "    current_index = 0\n",
    "\n",
    "\n",
    "    for index, item in enumerate(yet_to_visit_list):\n",
    "        if item.f < current_node.f:\n",
    "            current_node = item\n",
    "            current_index = index\n",
    "    \n",
    "    yet_to_visit_list.pop(current_index)\n",
    "    visited_list.append(current_node)\n",
    "\n",
    "    if current_node == end_node:\n",
    "        return_path(current_node)\n",
    "        break\n",
    "\n",
    "    for new_position in move:\n",
    "        move_pos = (empty_pos[0] + new_position[0], empty_pos[1] + new_position[1])\n",
    "        if (move_pos[0] > (no_rows - 1) or\n",
    "            move_pos[0] < 0 or\n",
    "            move_pos[1] > (no_columns - 1) or\n",
    "            move_pos[1] < 0):\n",
    "            continue\n",
    "\n",
    "        new_pos = current_node.position.copy()\n",
    "        new_pos[move_pos], new_pos[empty_pos]  = new_pos[empty_pos], new_pos[move_pos]\n",
    "\n",
    "        new_node = Node(current_node, new_pos)\n",
    "        children.append(new_node)\n",
    "\n",
    "    for child in children:\n",
    "        if len([v for v in visited_list if v==child]) > 0:\n",
    "            continue\n",
    "\n",
    "        child.g = current_node.g + cost\n",
    "        child.h = abs(goal - child.position).sum()\n",
    "        child.f = child.g + child.h\n",
    "\n",
    "        if len([i for i in yet_to_visit_list if child == i and child.g > i.g]) > 0:\n",
    "            continue\n",
    "\n",
    "        yet_to_visit_list.append(child) "
   ]
  },
  {
   "cell_type": "code",
   "execution_count": 15,
   "id": "776fb54d-a9ce-428c-a905-9ad383bbb203",
   "metadata": {},
   "outputs": [
    {
     "data": {
      "text/plain": [
       "13474"
      ]
     },
     "execution_count": 15,
     "metadata": {},
     "output_type": "execute_result"
    }
   ],
   "source": [
    "len(yet_to_visit_list)"
   ]
  },
  {
   "cell_type": "code",
   "execution_count": null,
   "id": "7dbc391c-21fe-430a-bb93-d82d8989c675",
   "metadata": {},
   "outputs": [],
   "source": []
  }
 ],
 "metadata": {
  "kernelspec": {
   "display_name": "Python 3",
   "language": "python",
   "name": "python3"
  },
  "language_info": {
   "codemirror_mode": {
    "name": "ipython",
    "version": 3
   },
   "file_extension": ".py",
   "mimetype": "text/x-python",
   "name": "python",
   "nbconvert_exporter": "python",
   "pygments_lexer": "ipython3",
   "version": "3.8.8"
  }
 },
 "nbformat": 4,
 "nbformat_minor": 5
}
