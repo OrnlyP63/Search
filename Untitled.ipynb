{
 "cells": [
  {
   "cell_type": "code",
   "execution_count": 1,
   "id": "c475de91-299f-49df-9fe5-d96d3aafde65",
   "metadata": {},
   "outputs": [],
   "source": [
    "import copy"
   ]
  },
  {
   "cell_type": "code",
   "execution_count": 2,
   "id": "c5b55b82-9101-4a7f-9ba0-4d29f7e3cc0f",
   "metadata": {},
   "outputs": [],
   "source": [
    "class Jug:\n",
    "    def __init__(self, max_):\n",
    "        self.max_volume = max_\n",
    "        self.water_volume = 0\n",
    "    \n",
    "    def fill(self):\n",
    "        if self.water_volume < self.max_volume:\n",
    "            self.water_volume = self.max_volume\n",
    "            \n",
    "        \n",
    "    def empty(self):\n",
    "        if self.water_volume != 0:\n",
    "            self.water_volume = 0\n",
    "    \n",
    "    def pour(self, other):\n",
    "        if other.max_volume - other.water_volume > self.water_volume:\n",
    "            other.water_volume = self.water_volume + other.water_volume\n",
    "            self.water_volume = 0\n",
    "        else:\n",
    "            self.water_volume = self.water_volume - (other.max_volume - other.water_volume)\n",
    "            other.water_volume = other.max_volume\n",
    "            \n",
    "    def full(self):\n",
    "        return self.max_volume == self.water_volume"
   ]
  },
  {
   "cell_type": "code",
   "execution_count": 3,
   "id": "60848d22-a2d7-45bf-a861-7e03357f6847",
   "metadata": {},
   "outputs": [],
   "source": [
    "class Node:\n",
    "    def __init__(self, parent=None, state=None):\n",
    "        self.parent = parent\n",
    "        self.state = state\n",
    "        \n",
    "        self.g = 0\n",
    "        self.h = 0\n",
    "        self.f = 0\n",
    "        \n",
    "    def __eq__(self, other):\n",
    "        return self.state == other.state"
   ]
  },
  {
   "cell_type": "code",
   "execution_count": 4,
   "id": "0a12e264-310c-4499-bd0d-9a3b92fd85d0",
   "metadata": {},
   "outputs": [],
   "source": [
    "init_state = [Jug(3), Jug(8), Jug(12)]\n",
    "start_node = Node(None, init_state)"
   ]
  },
  {
   "cell_type": "code",
   "execution_count": 5,
   "id": "483160cc-4e16-444c-afd1-0cbdc5938fc0",
   "metadata": {},
   "outputs": [
    {
     "data": {
      "text/plain": [
       "False"
      ]
     },
     "execution_count": 5,
     "metadata": {},
     "output_type": "execute_result"
    }
   ],
   "source": [
    "start_node.state[0].full()"
   ]
  },
  {
   "cell_type": "code",
   "execution_count": 6,
   "id": "fe585dd9-c9b4-4032-b3fc-0eff44ccdd08",
   "metadata": {},
   "outputs": [],
   "source": [
    "def child(node):\n",
    "    state = node.state\n",
    "    children = []\n",
    "    #Fill\n",
    "    for i, item in enumerate(state):\n",
    "        if item.full:\n",
    "            new_node = copy.copy(node)\n",
    "            new_node.state[i].fill()\n",
    "            children.append(new_node)\n",
    "    return children"
   ]
  },
  {
   "cell_type": "code",
   "execution_count": 7,
   "id": "65ca02d8-8939-40c8-acba-0ceab148cd5c",
   "metadata": {},
   "outputs": [
    {
     "data": {
      "text/plain": [
       "[None, None, None]"
      ]
     },
     "execution_count": 7,
     "metadata": {},
     "output_type": "execute_result"
    }
   ],
   "source": [
    "child(start_node)"
   ]
  },
  {
   "cell_type": "code",
   "execution_count": 8,
   "id": "7f4f1303-bc3c-4d1a-9f0c-6562bf5e8dc4",
   "metadata": {},
   "outputs": [],
   "source": [
    "visited = set()"
   ]
  },
  {
   "cell_type": "code",
   "execution_count": 9,
   "id": "a5a053ba-3d8e-43fa-aeb3-13ef77ac2f56",
   "metadata": {},
   "outputs": [
    {
     "data": {
      "text/plain": [
       "False"
      ]
     },
     "execution_count": 9,
     "metadata": {},
     "output_type": "execute_result"
    }
   ],
   "source": [
    "[1,2,3] == [1,0,3]"
   ]
  },
  {
   "cell_type": "code",
   "execution_count": 10,
   "id": "d4a01334-a65d-490c-ab82-959850bf52af",
   "metadata": {},
   "outputs": [],
   "source": [
    "jug3 = Jug(3)\n",
    "jug8 = Jug(8)\n",
    "jug12 = Jug(12)"
   ]
  },
  {
   "cell_type": "code",
   "execution_count": 11,
   "id": "1696e156-6984-45db-a057-ece9ee4701ad",
   "metadata": {},
   "outputs": [],
   "source": [
    "actions = {0:jug3.fill, 1:jug8.fill, 2:jug12.fill, 3:jug3.empty, 4:jug8.empty, 5:jug12.empty, 6:jug3.pour, 7:jug8.pour, 8:jug12.pour}"
   ]
  },
  {
   "cell_type": "code",
   "execution_count": 12,
   "id": "a6bf5ed4-c2d9-4ceb-af6a-f4aaf954c854",
   "metadata": {},
   "outputs": [
    {
     "data": {
      "text/plain": [
       "0"
      ]
     },
     "execution_count": 12,
     "metadata": {},
     "output_type": "execute_result"
    }
   ],
   "source": [
    "jug3.water_volume"
   ]
  },
  {
   "cell_type": "code",
   "execution_count": 13,
   "id": "7964afbe-c158-49c7-a183-f5c5ea8c9ee4",
   "metadata": {},
   "outputs": [
    {
     "ename": "AttributeError",
     "evalue": "'Jug' object has no attribute 'action'",
     "output_type": "error",
     "traceback": [
      "\u001b[1;31m---------------------------------------------------------------------------\u001b[0m",
      "\u001b[1;31mAttributeError\u001b[0m                            Traceback (most recent call last)",
      "\u001b[1;32m<ipython-input-13-c657c60cea5e>\u001b[0m in \u001b[0;36m<module>\u001b[1;34m\u001b[0m\n\u001b[1;32m----> 1\u001b[1;33m \u001b[0mjug3\u001b[0m\u001b[1;33m.\u001b[0m\u001b[0maction\u001b[0m\u001b[1;33m(\u001b[0m\u001b[1;36m0\u001b[0m\u001b[1;33m)\u001b[0m\u001b[1;33m\u001b[0m\u001b[1;33m\u001b[0m\u001b[0m\n\u001b[0m",
      "\u001b[1;31mAttributeError\u001b[0m: 'Jug' object has no attribute 'action'"
     ]
    }
   ],
   "source": [
    "jug3.action(0)"
   ]
  },
  {
   "cell_type": "code",
   "execution_count": null,
   "id": "13e46417-86ab-4314-b823-fd2ebdbe539b",
   "metadata": {},
   "outputs": [],
   "source": [
    "jug3.action(2, jug8)"
   ]
  },
  {
   "cell_type": "code",
   "execution_count": null,
   "id": "6660303f-db81-47d3-89ad-22a9600603d8",
   "metadata": {},
   "outputs": [],
   "source": [
    "jug3.water_volume"
   ]
  },
  {
   "cell_type": "code",
   "execution_count": null,
   "id": "48c75db0-3a96-43b6-9e4d-38874d74f851",
   "metadata": {},
   "outputs": [],
   "source": [
    "jug8.water_volume"
   ]
  },
  {
   "cell_type": "code",
   "execution_count": null,
   "id": "9deb10c8-0e09-4e88-bd83-7062092c8a1d",
   "metadata": {},
   "outputs": [],
   "source": [
    "jug12.fill()"
   ]
  },
  {
   "cell_type": "code",
   "execution_count": null,
   "id": "a59fbbc4-86db-42ec-b0cd-563af8e1fe46",
   "metadata": {},
   "outputs": [],
   "source": [
    "jug12.pour(jug8)"
   ]
  },
  {
   "cell_type": "code",
   "execution_count": null,
   "id": "42aafa8e-35d7-42fc-a17d-127021e49192",
   "metadata": {},
   "outputs": [],
   "source": [
    "jug12.pour(jug3)"
   ]
  },
  {
   "cell_type": "code",
   "execution_count": null,
   "id": "801df275-8817-4776-8291-a9972b1e5a69",
   "metadata": {},
   "outputs": [],
   "source": [
    "jug12.water_volume"
   ]
  },
  {
   "cell_type": "code",
   "execution_count": null,
   "id": "686b2b9a-0538-4fab-b6f6-dbbe9f4b6e85",
   "metadata": {},
   "outputs": [],
   "source": [
    "jug8.water_volume"
   ]
  },
  {
   "cell_type": "code",
   "execution_count": null,
   "id": "05355f91-fa3b-4640-871d-61586fd0b75e",
   "metadata": {},
   "outputs": [],
   "source": [
    "jug3.water_volume"
   ]
  },
  {
   "cell_type": "code",
   "execution_count": null,
   "id": "7480b946-a3c0-4393-9f15-dadffbbfd545",
   "metadata": {},
   "outputs": [],
   "source": [
    "# Using a Python dictionary to act as an adjacency list\n",
    "graph = {\n",
    "  '5' : ['3','7'],\n",
    "  '3' : ['2', '4'],\n",
    "  '7' : ['8'],\n",
    "  '2' : [],\n",
    "  '4' : ['8'],\n",
    "  '8' : []\n",
    "}\n",
    "\n",
    "visited = set() # Set to keep track of visited nodes of graph.\n",
    "\n",
    "def dfs(visited, graph, node):  #function for dfs \n",
    "    if node not in visited:\n",
    "        print (node)\n",
    "        visited.add(node)\n",
    "        for neighbour in graph[node]:\n",
    "            dfs(visited, graph, neighbour)\n",
    "\n",
    "# Driver Code\n",
    "print(\"Following is the Depth-First Search\")\n",
    "dfs(visited, graph, '5')"
   ]
  },
  {
   "cell_type": "code",
   "execution_count": null,
   "id": "075e990b-c8d8-45df-886d-cf8fb9746ca0",
   "metadata": {},
   "outputs": [],
   "source": [
    "for move"
   ]
  },
  {
   "cell_type": "code",
   "execution_count": null,
   "id": "e1560014-3bcd-4287-a268-f2b3c00b86fe",
   "metadata": {},
   "outputs": [],
   "source": []
  }
 ],
 "metadata": {
  "kernelspec": {
   "display_name": "Python 3",
   "language": "python",
   "name": "python3"
  },
  "language_info": {
   "codemirror_mode": {
    "name": "ipython",
    "version": 3
   },
   "file_extension": ".py",
   "mimetype": "text/x-python",
   "name": "python",
   "nbconvert_exporter": "python",
   "pygments_lexer": "ipython3",
   "version": "3.8.8"
  }
 },
 "nbformat": 4,
 "nbformat_minor": 5
}
