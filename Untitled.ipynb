{
 "cells": [
  {
   "cell_type": "code",
   "execution_count": 1,
   "id": "c5b55b82-9101-4a7f-9ba0-4d29f7e3cc0f",
   "metadata": {},
   "outputs": [],
   "source": [
    "class jug:\n",
    "    def __init__(self, max_):\n",
    "        self.max_volume = max_\n",
    "        self.water_volume = 0\n",
    "    \n",
    "    def fill(self):\n",
    "        if self.water_volume != self.water_volume:\n",
    "            self.water_volume = self.max_volume_\n",
    "            \n",
    "        \n",
    "    def empty(self):\n",
    "        if self.water_volume != 0:\n",
    "            self.water_volume = 0\n",
    "    \n",
    "    def pour(self, other):\n",
    "        if other.max_volume - other.water_volume > self.water_volume:\n",
    "            other.water_volume = self.water_volume + other.water_volume\n",
    "            self.water_volume = 0\n",
    "        else:\n",
    "            other.water_volume = other.max_volume\n",
    "            self.water_volume = self.water_volume - (other.max_volume - other.water_volume)"
   ]
  },
  {
   "cell_type": "code",
   "execution_count": null,
   "id": "d4a01334-a65d-490c-ab82-959850bf52af",
   "metadata": {},
   "outputs": [],
   "source": []
  }
 ],
 "metadata": {
  "kernelspec": {
   "display_name": "Python 3",
   "language": "python",
   "name": "python3"
  },
  "language_info": {
   "codemirror_mode": {
    "name": "ipython",
    "version": 3
   },
   "file_extension": ".py",
   "mimetype": "text/x-python",
   "name": "python",
   "nbconvert_exporter": "python",
   "pygments_lexer": "ipython3",
   "version": "3.8.8"
  }
 },
 "nbformat": 4,
 "nbformat_minor": 5
}
