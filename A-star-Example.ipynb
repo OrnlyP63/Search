{
 "cells": [
  {
   "cell_type": "code",
   "execution_count": 1,
   "id": "9125267a-93ea-431a-866b-f30a2d5f6c44",
   "metadata": {},
   "outputs": [],
   "source": [
    "import numpy as np"
   ]
  },
  {
   "cell_type": "code",
   "execution_count": 2,
   "id": "c9bf3d8c-e870-4caf-ae6c-355989f1ca44",
   "metadata": {},
   "outputs": [],
   "source": [
    "class Node:\n",
    "    def __init__(self, parent=None, position=None):\n",
    "        self.parent = parent\n",
    "        self.position = position\n",
    "        \n",
    "        self.g = 0\n",
    "        self.h = 0\n",
    "        self.f = 0\n",
    "        \n",
    "    def __eq__(self, other):\n",
    "        return self.position == other.position"
   ]
  },
  {
   "cell_type": "code",
   "execution_count": 3,
   "id": "f622a56a-49a3-4c1d-92c1-57d67ae43734",
   "metadata": {},
   "outputs": [],
   "source": [
    "def return_path(current_node, maze):\n",
    "    path = []\n",
    "    no_rows, no_columns = np.shape(maze)\n",
    "    \n",
    "    result = [[-1 for i in range(no_columns)] for j in range(no_rows)]\n",
    "    current = current_node\n",
    "    \n",
    "    while current is not None:\n",
    "        path.append(current.position)\n",
    "        current = current.parent\n",
    "    \n",
    "    path = path[::-1]\n",
    "    start_value = 0\n",
    "    \n",
    "    for i in range(len(path)):\n",
    "        result[path[i][0]][path[i][1]] = start_value\n",
    "        start_value += 1\n",
    "        \n",
    "    return result"
   ]
  },
  {
   "cell_type": "code",
   "execution_count": 4,
   "id": "b6ed498c-f8ea-4a02-966a-e5cf9f3b68a5",
   "metadata": {},
   "outputs": [],
   "source": [
    "def search(maze, cost, start, end):\n",
    "    \n",
    "    start_node = Node(None, tuple(start))\n",
    "    start_node.g = start_node.h = start_node.f = 0\n",
    "    \n",
    "    end_node = Node(None, tuple(end))\n",
    "    end_node.g = end_node.h = end_node.f = 0\n",
    "    \n",
    "    yet_to_visit_list = []\n",
    "    visited_list = []\n",
    "    \n",
    "    yet_to_visit_list.append(start_node)\n",
    "    \n",
    "    outer_iterations = 0\n",
    "    max_iterations = (len(maze) // 2) ** 10\n",
    "    \n",
    "    move = [[-1,0],\n",
    "            [0,-1],\n",
    "            [1, 0],\n",
    "            [0, 1]]\n",
    "    \n",
    "    no_rows, no_columns = np.shape(maze)\n",
    "    \n",
    "    while len(yet_to_visit_list) > 0:\n",
    "        \n",
    "        ### Find Path\n",
    "        outer_iterations +=1\n",
    "        \n",
    "        current_node = yet_to_visit_list[0]\n",
    "        current_index = 0\n",
    "        \n",
    "        for index, item in enumerate(yet_to_visit_list):\n",
    "            if item.f < current_node.f:\n",
    "                current_node = item\n",
    "                current_index = index\n",
    "                \n",
    "        if outer_iterations > max_iterations:\n",
    "            print('Giving up on pathfinding too many iterations')\n",
    "            return return_path(current_node, maze)\n",
    "        \n",
    "        yet_to_visit_list.pop(current_index)\n",
    "        visited_list.append(current_node)\n",
    "        \n",
    "        if current_node == end_node:\n",
    "            return return_path(current_node, maze)\n",
    "        \n",
    "        children = []\n",
    "        \n",
    "        ### Generate new node\n",
    "        for new_position in move:\n",
    "            \n",
    "            node_position = (current_node.position[0] + new_position[0],\n",
    "                             current_node.position[1] + new_position[1])\n",
    "            \n",
    "            if (node_position[0] > (no_rows - 1) or\n",
    "                node_position[0] < 0 or\n",
    "                node_position[1] > (no_columns - 1) or\n",
    "                node_position[1] < 0):\n",
    "                continue\n",
    "                \n",
    "            if maze[node_position[0]][node_position[1]] != 0:\n",
    "                continue\n",
    "                \n",
    "            new_node = Node(current_node, node_position)\n",
    "                \n",
    "            children.append(new_node)\n",
    "            \n",
    "        \n",
    "        ### Calculate cost\n",
    "        for child in children:\n",
    "            \n",
    "            if len([visited_child for visited_child in visited_list if visited_child == child]) > 0:\n",
    "                continue\n",
    "                \n",
    "            child.g = current_node.g + cost\n",
    "            child.h = (child.position[0] - end_node.position[0])**2 + (child.position[1] - end_node.position[1])**2\n",
    "            \n",
    "            child.f = child.g + child.h\n",
    "            \n",
    "            if len([i for i in yet_to_visit_list if child == i and child.g > i.g]) > 0:\n",
    "                continue\n",
    "                \n",
    "            yet_to_visit_list.append(child) "
   ]
  },
  {
   "cell_type": "code",
   "execution_count": 5,
   "id": "e71cb552-04b9-4d50-97fd-8841e5d1d04c",
   "metadata": {},
   "outputs": [
    {
     "name": "stdout",
     "output_type": "stream",
     "text": [
      "[[0, -1, -1, -1, -1, -1], [1, 2, 3, 4, 5, -1], [-1, -1, -1, -1, 6, 7], [-1, -1, -1, -1, -1, 8], [-1, -1, -1, -1, -1, 9]]\n"
     ]
    }
   ],
   "source": [
    "maze = [[0, 1, 0, 0, 0, 0],\n",
    "        [0, 0, 0, 0, 0, 0],\n",
    "        [0, 1, 0, 1, 0, 0],\n",
    "        [0, 1, 0, 0, 1, 0],\n",
    "        [0, 0, 0, 0, 1, 0]]\n",
    "    \n",
    "start = [0, 0] # starting position\n",
    "end = [4,5] # ending position\n",
    "cost = 1 # cost per movement\n",
    "\n",
    "path = search(maze,cost, start, end)\n",
    "print(path)"
   ]
  },
  {
   "cell_type": "code",
   "execution_count": 6,
   "id": "9038d6a8-cde5-4cf7-a724-bb60c39cdb37",
   "metadata": {},
   "outputs": [
    {
     "name": "stdout",
     "output_type": "stream",
     "text": [
      "  0 -1 -1 -1 -1 -1\n",
      "  1  2  3  4  5 -1\n",
      " -1 -1 -1 -1  6  7\n",
      " -1 -1 -1 -1 -1  8\n",
      " -1 -1 -1 -1 -1  9\n"
     ]
    }
   ],
   "source": [
    "print('\\n'.join([''.join([\"{:\" \">3d}\".format(item) for item in row]) \n",
    "      for row in path]))"
   ]
  },
  {
   "cell_type": "code",
   "execution_count": null,
   "id": "c5234d20-3f40-49e0-848b-539f0efdce0d",
   "metadata": {},
   "outputs": [],
   "source": []
  }
 ],
 "metadata": {
  "kernelspec": {
   "display_name": "Python 3",
   "language": "python",
   "name": "python3"
  },
  "language_info": {
   "codemirror_mode": {
    "name": "ipython",
    "version": 3
   },
   "file_extension": ".py",
   "mimetype": "text/x-python",
   "name": "python",
   "nbconvert_exporter": "python",
   "pygments_lexer": "ipython3",
   "version": "3.8.8"
  }
 },
 "nbformat": 4,
 "nbformat_minor": 5
}
