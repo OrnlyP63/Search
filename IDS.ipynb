{
 "cells": [
  {
   "cell_type": "code",
   "execution_count": 1,
   "id": "659057d6-1992-4825-990e-43017f65e511",
   "metadata": {},
   "outputs": [],
   "source": [
    "import copy\n",
    "from itertools import combinations, permutations"
   ]
  },
  {
   "cell_type": "code",
   "execution_count": 2,
   "id": "cb7eb3d9-c24a-4076-a421-dd16c3b72802",
   "metadata": {},
   "outputs": [],
   "source": [
    "class Node:\n",
    "    def __init__(self, parent=None, state=None, action=None, maxDepth = 7):\n",
    "        self.parent = parent\n",
    "        self.state = state\n",
    "        self.action = action\n",
    "        self.g = 0\n",
    "        self.h = 0\n",
    "        self.f = 0\n",
    "        \n",
    "    def __eq__(self, other):\n",
    "        return self.state == other.state\n",
    "    \n",
    "    def copy_state(self):\n",
    "        return copy.copy(self.state)"
   ]
  },
  {
   "cell_type": "code",
   "execution_count": 3,
   "id": "3c24c0ba-f995-4ed7-b468-afbba1b97439",
   "metadata": {},
   "outputs": [],
   "source": [
    "init_state = [(0,3),(0,8),(0,12)]\n",
    "start_node = Node(None, init_state, None)"
   ]
  },
  {
   "cell_type": "code",
   "execution_count": 4,
   "id": "81ee0e50-cea6-4397-a0cb-772fd8e50612",
   "metadata": {},
   "outputs": [],
   "source": [
    "l = start_node.state"
   ]
  },
  {
   "cell_type": "code",
   "execution_count": 5,
   "id": "a093b39b-5dbc-4134-8303-14cd38ff1f1d",
   "metadata": {},
   "outputs": [],
   "source": [
    "child = []\n",
    "for i, a in enumerate(l):\n",
    "    if a[0] == 0:\n",
    "        new_state = start_node.copy_state()\n",
    "        new_state[i] = (a[1], a[1])\n",
    "        \n",
    "        child.append(Node(start_node, new_state, 'full'))"
   ]
  },
  {
   "cell_type": "code",
   "execution_count": 6,
   "id": "334636b8-8333-46d8-addf-e4a9dc61079b",
   "metadata": {},
   "outputs": [
    {
     "name": "stdout",
     "output_type": "stream",
     "text": [
      "[(3, 3), (0, 8), (0, 12)]\n",
      "[(0, 3), (8, 8), (0, 12)]\n",
      "[(0, 3), (0, 8), (12, 12)]\n"
     ]
    }
   ],
   "source": [
    "for c in child:\n",
    "    print(c.state)"
   ]
  },
  {
   "cell_type": "code",
   "execution_count": 7,
   "id": "bc9797a3-f61a-4c17-b7c3-a0d5ff3f3631",
   "metadata": {},
   "outputs": [],
   "source": [
    "child1 = []\n",
    "node1 = child[0]\n",
    "l = node1.state\n",
    "for i, a in enumerate(l):\n",
    "    if a[0] == a[1]:\n",
    "        new_state = start_node.copy_state()\n",
    "        new_state[i] = (0, a[1])\n",
    "        \n",
    "        child1.append(Node(start_node, new_state, 'empty'))"
   ]
  },
  {
   "cell_type": "code",
   "execution_count": 8,
   "id": "5f701610-a46a-481f-863b-1ddd092b08c3",
   "metadata": {},
   "outputs": [
    {
     "name": "stdout",
     "output_type": "stream",
     "text": [
      "[(0, 3), (0, 8), (0, 12)]\n"
     ]
    }
   ],
   "source": [
    "for c in child1:\n",
    "    print(c.state)"
   ]
  },
  {
   "cell_type": "code",
   "execution_count": 9,
   "id": "bc368ec2-ad31-47df-8864-247bf7453d9d",
   "metadata": {},
   "outputs": [],
   "source": [
    "comb = permutations(node1.state, 3)"
   ]
  },
  {
   "cell_type": "code",
   "execution_count": 10,
   "id": "57593717-8536-4ad9-90cc-d8bf6d73a5e9",
   "metadata": {},
   "outputs": [],
   "source": [
    "l = [i for i in list(comb)]"
   ]
  },
  {
   "cell_type": "code",
   "execution_count": 11,
   "id": "f1b6ccd7-5a32-426e-b2ec-bf25ade2c315",
   "metadata": {},
   "outputs": [
    {
     "data": {
      "text/plain": [
       "[((3, 3), (0, 8), (0, 12)),\n",
       " ((3, 3), (0, 12), (0, 8)),\n",
       " ((0, 8), (3, 3), (0, 12)),\n",
       " ((0, 8), (0, 12), (3, 3)),\n",
       " ((0, 12), (3, 3), (0, 8)),\n",
       " ((0, 12), (0, 8), (3, 3))]"
      ]
     },
     "execution_count": 11,
     "metadata": {},
     "output_type": "execute_result"
    }
   ],
   "source": [
    "l"
   ]
  },
  {
   "cell_type": "code",
   "execution_count": 12,
   "id": "92861ebf-cf86-49c4-ad6b-b82cde2b1c6c",
   "metadata": {},
   "outputs": [],
   "source": [
    "child2 = []\n",
    "for x, y, z in l:\n",
    "    x = list(x)\n",
    "    y = list(y)\n",
    "    if x[0] == 0:\n",
    "        continue\n",
    "    if y[1] - y[0] > x[0]:\n",
    "        y[0] = x[0] + y[0]\n",
    "        x[0] = 0\n",
    "    else:\n",
    "        y[0] = y[1]\n",
    "        x[0] = x[0] - (y[1]-y[0])\n",
    "    state = sorted([tuple(x), tuple(y), z], key=lambda b: b[1])\n",
    "    child2.append(Node(start_node, tuple(state), 'pour'))"
   ]
  },
  {
   "cell_type": "code",
   "execution_count": 13,
   "id": "e7c2980e-ae1f-4056-874e-a7c281ad35e8",
   "metadata": {},
   "outputs": [
    {
     "name": "stdout",
     "output_type": "stream",
     "text": [
      "((0, 3), (3, 8), (0, 12))\n",
      "((0, 3), (0, 8), (3, 12))\n"
     ]
    }
   ],
   "source": [
    "for c in child2:\n",
    "    print(c.state)"
   ]
  },
  {
   "cell_type": "code",
   "execution_count": 14,
   "id": "cd208c98-e6d3-47a8-870d-68f7226ab58b",
   "metadata": {},
   "outputs": [
    {
     "data": {
      "text/plain": [
       "'pour'"
      ]
     },
     "execution_count": 14,
     "metadata": {},
     "output_type": "execute_result"
    }
   ],
   "source": [
    "child2[0].action"
   ]
  },
  {
   "cell_type": "code",
   "execution_count": 15,
   "id": "855653d6-289b-4543-b987-dac6a7b0b8fb",
   "metadata": {},
   "outputs": [],
   "source": [
    "def child_gen(node, maxDepth):\n",
    "    l = node.state\n",
    "    child = []\n",
    "    per = permutations(l, len(l))\n",
    "    #Fill\n",
    "    for i, a in enumerate(l):\n",
    "        if a[0] == 0:\n",
    "            new_state = node.copy_state()\n",
    "            new_state[i] = (a[1], a[1])\n",
    "\n",
    "            child.append(Node(node, new_state, 'full', maxDepth))\n",
    "    \n",
    "    #Empty\n",
    "    for i, a in enumerate(l):\n",
    "        if a[0] == a[1]:\n",
    "            new_state = node.copy_state()\n",
    "            new_state[i] = (0, a[1])\n",
    "\n",
    "            child.append(Node(node, new_state, 'empty', maxDepth))\n",
    "    \n",
    "    l = [i for i in list(per)]\n",
    "    for x, y, z in l:\n",
    "        x = list(x)\n",
    "        y = list(y)\n",
    "        if x[0] == 0:\n",
    "            continue\n",
    "        if y[1] - y[0] > x[0]:\n",
    "            y[0] = x[0] + y[0]\n",
    "            x[0] = 0\n",
    "        else:\n",
    "            y[0] = y[1]\n",
    "            x[0] = x[0] - (y[1]-y[0])\n",
    "            \n",
    "        state = sorted([tuple(x), tuple(y), z], key=lambda b: b[1])\n",
    "        child.append(Node(node, state, 'pour', maxDepth))\n",
    "        \n",
    "    return child"
   ]
  },
  {
   "cell_type": "code",
   "execution_count": 16,
   "id": "c4ad5818-367d-4c16-a23e-da0f1a5e3804",
   "metadata": {},
   "outputs": [],
   "source": [
    "c = child_gen(start_node, 1)"
   ]
  },
  {
   "cell_type": "code",
   "execution_count": 17,
   "id": "0ba05d87-db89-47bb-915b-8c78d0c3315e",
   "metadata": {},
   "outputs": [],
   "source": [
    "c1 = child_gen(c[0], 2)"
   ]
  },
  {
   "cell_type": "code",
   "execution_count": 18,
   "id": "6f2fbd9e-d3d8-4ad3-a2ab-098db78aab19",
   "metadata": {},
   "outputs": [],
   "source": [
    "def dls(src, target, maxDepth, visited):\n",
    "    \n",
    "        if src == target :\n",
    "            return src, visited\n",
    "\n",
    "        if maxDepth <= 0 :\n",
    "            print('F')\n",
    "\n",
    "        children = child_gen(src, maxDepth)\n",
    "\n",
    "        for c in children:\n",
    "            if len([v for v in visited if v==c]) > 0:\n",
    "                continue\n",
    "            else:\n",
    "                visited.append(c)\n",
    "                print(c.state, c.action)\n",
    "                dls(c, target, maxDepth-1, visited)\n",
    "                \n",
    "                "
   ]
  },
  {
   "cell_type": "code",
   "execution_count": 19,
   "id": "d98e94bb-5fdb-4227-bcc7-27ec22165236",
   "metadata": {},
   "outputs": [],
   "source": [
    "tr = Node(None, [1,0,0])\n",
    "tr2 = Node(None, [0,0,1])"
   ]
  },
  {
   "cell_type": "code",
   "execution_count": 20,
   "id": "caf35e5b-0503-4de2-8d67-c7b1da9a98fb",
   "metadata": {},
   "outputs": [
    {
     "name": "stdout",
     "output_type": "stream",
     "text": [
      "[(3, 3), (0, 8), (0, 12)] full\n",
      "[(3, 3), (8, 8), (0, 12)] full\n",
      "[(3, 3), (8, 8), (12, 12)] full\n",
      "[(0, 3), (8, 8), (12, 12)] empty\n",
      "[(0, 3), (0, 8), (12, 12)] empty\n",
      "[(3, 3), (0, 8), (12, 12)] full\n",
      "[(0, 3), (3, 8), (12, 12)] pour\n",
      "[(3, 3), (3, 8), (12, 12)] full\n",
      "[(3, 3), (3, 8), (0, 12)] empty\n",
      "[(0, 3), (3, 8), (0, 12)] empty\n",
      "F\n",
      "[(0, 3), (0, 8), (3, 12)] pour\n",
      "F\n",
      "[(3, 3), (0, 8), (3, 12)] full\n",
      "F\n",
      "[(3, 3), (8, 8), (3, 12)] full\n",
      "F\n",
      "[(0, 3), (8, 8), (3, 12)] empty\n",
      "F\n",
      "[(0, 3), (0, 8), (11, 12)] pour\n",
      "F\n",
      "[(3, 3), (0, 8), (11, 12)] full\n",
      "F\n",
      "[(3, 3), (8, 8), (11, 12)] full\n",
      "F\n",
      "[(0, 3), (8, 8), (11, 12)] empty\n",
      "F\n",
      "[(0, 3), (3, 8), (11, 12)] pour\n",
      "F\n",
      "[(3, 3), (3, 8), (11, 12)] full\n",
      "F\n",
      "[(0, 3), (6, 8), (11, 12)] pour\n",
      "F\n",
      "[(3, 3), (6, 8), (11, 12)] full\n",
      "F\n",
      "[(3, 3), (6, 8), (12, 12)] pour\n",
      "F\n",
      "[(0, 3), (6, 8), (12, 12)] empty\n",
      "F\n",
      "[(0, 3), (6, 8), (0, 12)] empty\n",
      "F\n",
      "[(3, 3), (6, 8), (0, 12)] full\n",
      "F\n",
      "[(0, 3), (6, 8), (3, 12)] pour\n",
      "F\n",
      "[(3, 3), (6, 8), (3, 12)] full\n",
      "F\n",
      "[(0, 3), (6, 8), (6, 12)] pour\n",
      "F\n",
      "[(3, 3), (6, 8), (6, 12)] full\n",
      "F\n",
      "[(3, 3), (8, 8), (6, 12)] pour\n",
      "F\n",
      "[(0, 3), (8, 8), (6, 12)] empty\n",
      "F\n",
      "[(0, 3), (0, 8), (6, 12)] empty\n",
      "F\n",
      "[(3, 3), (0, 8), (6, 12)] full\n",
      "F\n",
      "[(0, 3), (3, 8), (6, 12)] pour\n",
      "F\n",
      "[(3, 3), (3, 8), (6, 12)] full\n",
      "F\n",
      "[(0, 3), (3, 8), (9, 12)] pour\n",
      "F\n",
      "[(3, 3), (3, 8), (9, 12)] full\n",
      "F\n",
      "[(0, 3), (6, 8), (9, 12)] pour\n",
      "F\n",
      "[(3, 3), (6, 8), (9, 12)] full\n",
      "F\n",
      "[(3, 3), (8, 8), (9, 12)] pour\n",
      "F\n",
      "[(0, 3), (8, 8), (9, 12)] empty\n",
      "F\n",
      "[(0, 3), (0, 8), (9, 12)] empty\n",
      "F\n",
      "[(3, 3), (0, 8), (9, 12)] full\n",
      "F\n",
      "[(0, 3), (3, 8), (3, 12)] pour\n",
      "F\n",
      "[(3, 3), (3, 8), (3, 12)] full\n",
      "F\n",
      "[(0, 3), (8, 8), (0, 12)] empty\n",
      "[(0, 3), (0, 8), (8, 12)] pour\n",
      "[(3, 3), (0, 8), (8, 12)] full\n",
      "[(3, 3), (8, 8), (8, 12)] full\n",
      "[(0, 3), (8, 8), (8, 12)] empty\n",
      "[(0, 3), (3, 8), (8, 12)] pour\n",
      "[(3, 3), (3, 8), (8, 12)] full\n",
      "[(0, 3), (6, 8), (8, 12)] pour\n",
      "F\n",
      "[(3, 3), (6, 8), (8, 12)] full\n",
      "F\n"
     ]
    }
   ],
   "source": [
    "dls(start_node, tr2, maxDepth=10, visited=[start_node])"
   ]
  },
  {
   "cell_type": "code",
   "execution_count": 21,
   "id": "a414c6e4-d0a2-44bb-9a9e-5a39af5cdee3",
   "metadata": {},
   "outputs": [
    {
     "data": {
      "text/plain": [
       "False"
      ]
     },
     "execution_count": 21,
     "metadata": {},
     "output_type": "execute_result"
    }
   ],
   "source": [
    "tr == start_node"
   ]
  },
  {
   "cell_type": "code",
   "execution_count": 22,
   "id": "3acd245e-787e-4490-aef0-1a5838a03301",
   "metadata": {},
   "outputs": [
    {
     "data": {
      "text/plain": [
       "False"
      ]
     },
     "execution_count": 22,
     "metadata": {},
     "output_type": "execute_result"
    }
   ],
   "source": [
    "tr == tr2"
   ]
  },
  {
   "cell_type": "code",
   "execution_count": 23,
   "id": "0fce1570-fb01-4df1-a733-f53d9a34eb11",
   "metadata": {},
   "outputs": [],
   "source": [
    "c = child_gen(start_node, 1)\n",
    "c1 = child_gen(c[0], 2)"
   ]
  },
  {
   "cell_type": "code",
   "execution_count": 24,
   "id": "8e40cac1-07c0-4f8b-a51b-64512d4f0a5c",
   "metadata": {},
   "outputs": [
    {
     "data": {
      "text/plain": [
       "[(3, 3), (0, 8), (0, 12)]"
      ]
     },
     "execution_count": 24,
     "metadata": {},
     "output_type": "execute_result"
    }
   ],
   "source": [
    "c[0].state"
   ]
  },
  {
   "cell_type": "code",
   "execution_count": 25,
   "id": "2c31d93d-b540-4c1b-b29a-2b412310ebea",
   "metadata": {},
   "outputs": [
    {
     "name": "stdout",
     "output_type": "stream",
     "text": [
      "[(3, 3), (0, 8), (0, 12)]\n",
      "full\n",
      "[(0, 3), (8, 8), (0, 12)]\n",
      "full\n",
      "[(0, 3), (0, 8), (12, 12)]\n",
      "full\n"
     ]
    }
   ],
   "source": [
    "for i in c:\n",
    "    print(i.state)\n",
    "    print(i.action)"
   ]
  },
  {
   "cell_type": "code",
   "execution_count": 26,
   "id": "d08b4ff9-e59e-4841-8938-de617aab5dea",
   "metadata": {},
   "outputs": [
    {
     "name": "stdout",
     "output_type": "stream",
     "text": [
      "[(3, 3), (8, 8), (0, 12)]\n",
      "full\n",
      "[(3, 3), (0, 8), (12, 12)]\n",
      "full\n",
      "[(0, 3), (0, 8), (0, 12)]\n",
      "empty\n",
      "[(0, 3), (3, 8), (0, 12)]\n",
      "pour\n",
      "[(0, 3), (0, 8), (3, 12)]\n",
      "pour\n"
     ]
    }
   ],
   "source": [
    "for c in c1:\n",
    "    print(c.state)\n",
    "    print(c.action)"
   ]
  },
  {
   "cell_type": "code",
   "execution_count": 27,
   "id": "95a8b33a-5802-461b-aaeb-0eb3c3d3ec20",
   "metadata": {},
   "outputs": [
    {
     "name": "stdout",
     "output_type": "stream",
     "text": [
      "[(3, 3), (8, 8), (12, 12)]\n",
      "full\n",
      "[(0, 3), (8, 8), (0, 12)]\n",
      "empty\n",
      "[(3, 3), (0, 8), (0, 12)]\n",
      "empty\n",
      "[(3, 3), (8, 8), (0, 12)]\n",
      "pour\n",
      "[(0, 3), (8, 8), (3, 12)]\n",
      "pour\n",
      "[(3, 3), (8, 8), (0, 12)]\n",
      "pour\n",
      "[(3, 3), (0, 8), (8, 12)]\n",
      "pour\n"
     ]
    }
   ],
   "source": [
    "for c in child_gen(c1[0], 2):\n",
    "    print(c.state)\n",
    "    print(c.action)"
   ]
  },
  {
   "cell_type": "code",
   "execution_count": null,
   "id": "1a58265b-b4ca-4b24-8f86-e4b1bf0737aa",
   "metadata": {},
   "outputs": [],
   "source": []
  }
 ],
 "metadata": {
  "kernelspec": {
   "display_name": "Python 3",
   "language": "python",
   "name": "python3"
  },
  "language_info": {
   "codemirror_mode": {
    "name": "ipython",
    "version": 3
   },
   "file_extension": ".py",
   "mimetype": "text/x-python",
   "name": "python",
   "nbconvert_exporter": "python",
   "pygments_lexer": "ipython3",
   "version": "3.8.8"
  }
 },
 "nbformat": 4,
 "nbformat_minor": 5
}
