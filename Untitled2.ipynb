{
 "cells": [
  {
   "cell_type": "code",
   "execution_count": 11,
   "id": "659057d6-1992-4825-990e-43017f65e511",
   "metadata": {},
   "outputs": [],
   "source": [
    "import copy\n",
    "from itertools import combinations, permutations"
   ]
  },
  {
   "cell_type": "code",
   "execution_count": 2,
   "id": "cb7eb3d9-c24a-4076-a421-dd16c3b72802",
   "metadata": {},
   "outputs": [],
   "source": [
    "class Node:\n",
    "    def __init__(self, parent=None, state=None):\n",
    "        self.parent = parent\n",
    "        self.state = state\n",
    "        \n",
    "        self.g = 0\n",
    "        self.h = 0\n",
    "        self.f = 0\n",
    "        \n",
    "    def __eq__(self, other):\n",
    "        return self.state == other.state\n",
    "    \n",
    "    def copy_state(self):\n",
    "        return copy.copy(self.state)"
   ]
  },
  {
   "cell_type": "code",
   "execution_count": 3,
   "id": "3c24c0ba-f995-4ed7-b468-afbba1b97439",
   "metadata": {},
   "outputs": [],
   "source": [
    "init_state = [(0,3),(0,8),(0,12)]\n",
    "start_node = Node(None, init_state)"
   ]
  },
  {
   "cell_type": "code",
   "execution_count": 4,
   "id": "81ee0e50-cea6-4397-a0cb-772fd8e50612",
   "metadata": {},
   "outputs": [],
   "source": [
    "l = start_node.state"
   ]
  },
  {
   "cell_type": "code",
   "execution_count": 5,
   "id": "a093b39b-5dbc-4134-8303-14cd38ff1f1d",
   "metadata": {},
   "outputs": [],
   "source": [
    "child = []\n",
    "for i, a in enumerate(l):\n",
    "    if a[0] == 0:\n",
    "        new_state = start_node.copy_state()\n",
    "        new_state[i] = (a[1], a[1])\n",
    "        \n",
    "        child.append(Node(start_node, new_state))"
   ]
  },
  {
   "cell_type": "code",
   "execution_count": 6,
   "id": "334636b8-8333-46d8-addf-e4a9dc61079b",
   "metadata": {},
   "outputs": [
    {
     "name": "stdout",
     "output_type": "stream",
     "text": [
      "[(3, 3), (0, 8), (0, 12)]\n",
      "[(0, 3), (8, 8), (0, 12)]\n",
      "[(0, 3), (0, 8), (12, 12)]\n"
     ]
    }
   ],
   "source": [
    "for c in child:\n",
    "    print(c.state)"
   ]
  },
  {
   "cell_type": "code",
   "execution_count": 7,
   "id": "bc9797a3-f61a-4c17-b7c3-a0d5ff3f3631",
   "metadata": {},
   "outputs": [],
   "source": [
    "child1 = []\n",
    "node1 = child[0]\n",
    "l = node1.state\n",
    "for i, a in enumerate(l):\n",
    "    if a[0] == a[1]:\n",
    "        new_state = start_node.copy_state()\n",
    "        new_state[i] = (0, a[1])\n",
    "        \n",
    "        child1.append(Node(start_node, new_state))"
   ]
  },
  {
   "cell_type": "code",
   "execution_count": 8,
   "id": "5f701610-a46a-481f-863b-1ddd092b08c3",
   "metadata": {},
   "outputs": [
    {
     "name": "stdout",
     "output_type": "stream",
     "text": [
      "[(0, 3), (0, 8), (0, 12)]\n"
     ]
    }
   ],
   "source": [
    "for c in child1:\n",
    "    print(c.state)"
   ]
  },
  {
   "cell_type": "code",
   "execution_count": 17,
   "id": "bc368ec2-ad31-47df-8864-247bf7453d9d",
   "metadata": {},
   "outputs": [],
   "source": [
    "comb = permutations(node1.state, 2)"
   ]
  },
  {
   "cell_type": "code",
   "execution_count": 18,
   "id": "0242a33f-6e9b-4db1-b5e8-0cf1b3b446f9",
   "metadata": {},
   "outputs": [],
   "source": [
    "l = [i for i in list(comb)]"
   ]
  },
  {
   "cell_type": "code",
   "execution_count": 19,
   "id": "92861ebf-cf86-49c4-ad6b-b82cde2b1c6c",
   "metadata": {},
   "outputs": [
    {
     "data": {
      "text/plain": [
       "[((3, 3), (0, 8)),\n",
       " ((3, 3), (0, 12)),\n",
       " ((0, 8), (3, 3)),\n",
       " ((0, 8), (0, 12)),\n",
       " ((0, 12), (3, 3)),\n",
       " ((0, 12), (0, 8))]"
      ]
     },
     "execution_count": 19,
     "metadata": {},
     "output_type": "execute_result"
    }
   ],
   "source": [
    "for a, b in l:\n",
    "    if a[0] < b[0]:\n",
    "        "
   ]
  },
  {
   "cell_type": "code",
   "execution_count": null,
   "id": "e7c2980e-ae1f-4056-874e-a7c281ad35e8",
   "metadata": {},
   "outputs": [],
   "source": []
  }
 ],
 "metadata": {
  "kernelspec": {
   "display_name": "Python 3",
   "language": "python",
   "name": "python3"
  },
  "language_info": {
   "codemirror_mode": {
    "name": "ipython",
    "version": 3
   },
   "file_extension": ".py",
   "mimetype": "text/x-python",
   "name": "python",
   "nbconvert_exporter": "python",
   "pygments_lexer": "ipython3",
   "version": "3.8.8"
  }
 },
 "nbformat": 4,
 "nbformat_minor": 5
}
